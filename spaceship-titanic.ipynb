{
 "cells": [
  {
   "cell_type": "markdown",
   "id": "ed7908d2",
   "metadata": {
    "papermill": {
     "duration": 0.011394,
     "end_time": "2022-06-26T12:21:40.114695",
     "exception": false,
     "start_time": "2022-06-26T12:21:40.103301",
     "status": "completed"
    },
    "tags": []
   },
   "source": [
    "# 1. Problem Statement"
   ]
  },
  {
   "cell_type": "markdown",
   "id": "23dd6e0c",
   "metadata": {
    "papermill": {
     "duration": 0.009917,
     "end_time": "2022-06-26T12:21:40.135172",
     "exception": false,
     "start_time": "2022-06-26T12:21:40.125255",
     "status": "completed"
    },
    "tags": []
   },
   "source": [
    "In this competition your task is to predict whether a passenger was transported to an alternate dimension during the Spaceship Titanic's collision with the spacetime anomaly. To help you make these predictions, you're given a set of personal records recovered from the ship's damaged computer system.\n",
    "\n",
    "<b>File and Data Field Descriptions</b>\n",
    "\n",
    "<b>train.csv</b> - Personal records for about two-thirds (~8700) of the passengers, to be used as training data.\n",
    "\n",
    "<b>PassengerId</b> - A unique Id for each passenger. Each Id takes the form gggg_pp where gggg indicates a group the passenger is travelling with and pp is their number within the group. People in a group are often family members, but not always.\n",
    "\n",
    "<b>HomePlane</b>t - The planet the passenger departed from, typically their planet of permanent residence.\n",
    "\n",
    "<b>CryoSleep</b> - Indicates whether the passenger elected to be put into suspended animation for the duration of the voyage. Passengers in cryosleep are confined to their cabins.\n",
    "\n",
    "<b>Cabin</b> - The cabin number where the passenger is staying. Takes the form deck/num/side, where side can be either P for Port or S for Starboard.\n",
    "\n",
    "<b>Destination</b> - The planet the passenger will be debarking to.\n",
    "\n",
    "<b>Age</b> - The age of the passenger.\n",
    "\n",
    "<b>VIP</b> - Whether the passenger has paid for special VIP service during the voyage.\n",
    "RoomService, FoodCourt, ShoppingMall, Spa, VRDeck - Amount the passenger has billed at each of the Spaceship Titanic's many luxury amenities.\n",
    "\n",
    "<b>Name</b> - The first and last names of the passenger.\n",
    "\n",
    "<b>Transported</b> - Whether the passenger was transported to another dimension. This is the target, the column you are trying to predict.\n",
    "\n",
    "<b>test.csv</b> - Personal records for the remaining one-third (~4300) of the passengers, to be used as test data. Your task is to predict the value of Transported for the passengers in this set.\n",
    "\n",
    "<b>sample_submission.csv</b> - A submission file in the correct format.\n",
    "\n",
    "<b>PassengerId</b> - Id for each passenger in the test set.\n",
    "\n",
    "<b>Transported</b> - The target. For each passenger, predict either True or False."
   ]
  },
  {
   "cell_type": "markdown",
   "id": "aafb11f3",
   "metadata": {
    "papermill": {
     "duration": 0.00991,
     "end_time": "2022-06-26T12:21:40.155308",
     "exception": false,
     "start_time": "2022-06-26T12:21:40.145398",
     "status": "completed"
    },
    "tags": []
   },
   "source": [
    "# 2. Importing Dataset and Libraries"
   ]
  },
  {
   "cell_type": "code",
   "execution_count": 1,
   "id": "f2f670bd",
   "metadata": {
    "execution": {
     "iopub.execute_input": "2022-06-26T12:21:40.178503Z",
     "iopub.status.busy": "2022-06-26T12:21:40.177811Z",
     "iopub.status.idle": "2022-06-26T12:21:40.194528Z",
     "shell.execute_reply": "2022-06-26T12:21:40.193343Z"
    },
    "papermill": {
     "duration": 0.032325,
     "end_time": "2022-06-26T12:21:40.197941",
     "exception": false,
     "start_time": "2022-06-26T12:21:40.165616",
     "status": "completed"
    },
    "tags": []
   },
   "outputs": [
    {
     "name": "stdout",
     "output_type": "stream",
     "text": [
      "/kaggle/input/spaceship-titanic/sample_submission.csv\n",
      "/kaggle/input/spaceship-titanic/train.csv\n",
      "/kaggle/input/spaceship-titanic/test.csv\n"
     ]
    }
   ],
   "source": [
    "# This Python 3 environment comes with many helpful analytics libraries installed\n",
    "# It is defined by the kaggle/python Docker image: https://github.com/kaggle/docker-python\n",
    "# For example, here's several helpful packages to load\n",
    "\n",
    "import numpy as np # linear algebra\n",
    "import pandas as pd # data processing, CSV file I/O (e.g. pd.read_csv)\n",
    "\n",
    "# Input data files are available in the read-only \"../input/\" directory\n",
    "# For example, running this (by clicking run or pressing Shift+Enter) will list all files under the input directory\n",
    "\n",
    "import os\n",
    "for dirname, _, filenames in os.walk('/kaggle/input'):\n",
    "    for filename in filenames:\n",
    "        print(os.path.join(dirname, filename))\n",
    "\n",
    "# You can write up to 20GB to the current directory (/kaggle/working/) that gets preserved as output when you create a version using \"Save & Run All\" \n",
    "# You can also write temporary files to /kaggle/temp/, but they won't be saved outside of the current session"
   ]
  },
  {
   "cell_type": "code",
   "execution_count": 2,
   "id": "45e48301",
   "metadata": {
    "execution": {
     "iopub.execute_input": "2022-06-26T12:21:40.221266Z",
     "iopub.status.busy": "2022-06-26T12:21:40.220873Z",
     "iopub.status.idle": "2022-06-26T12:21:41.332622Z",
     "shell.execute_reply": "2022-06-26T12:21:41.331764Z"
    },
    "papermill": {
     "duration": 1.125824,
     "end_time": "2022-06-26T12:21:41.335100",
     "exception": false,
     "start_time": "2022-06-26T12:21:40.209276",
     "status": "completed"
    },
    "tags": []
   },
   "outputs": [],
   "source": [
    "#importing libraries\n",
    "import pandas as pd\n",
    "import numpy as np\n",
    "import seaborn as sns\n",
    "import matplotlib.pyplot as plt\n",
    "%matplotlib inline\n"
   ]
  },
  {
   "cell_type": "code",
   "execution_count": 3,
   "id": "8c644f6d",
   "metadata": {
    "execution": {
     "iopub.execute_input": "2022-06-26T12:21:41.359612Z",
     "iopub.status.busy": "2022-06-26T12:21:41.358319Z",
     "iopub.status.idle": "2022-06-26T12:21:41.443044Z",
     "shell.execute_reply": "2022-06-26T12:21:41.441895Z"
    },
    "papermill": {
     "duration": 0.099703,
     "end_time": "2022-06-26T12:21:41.445726",
     "exception": false,
     "start_time": "2022-06-26T12:21:41.346023",
     "status": "completed"
    },
    "tags": []
   },
   "outputs": [],
   "source": [
    "df_train=pd.read_csv(\"/kaggle/input/spaceship-titanic/train.csv\")\n",
    "df_test=pd.read_csv(\"/kaggle/input/spaceship-titanic/test.csv\")"
   ]
  },
  {
   "cell_type": "code",
   "execution_count": 4,
   "id": "80d598fd",
   "metadata": {
    "execution": {
     "iopub.execute_input": "2022-06-26T12:21:41.469657Z",
     "iopub.status.busy": "2022-06-26T12:21:41.468976Z",
     "iopub.status.idle": "2022-06-26T12:21:41.499577Z",
     "shell.execute_reply": "2022-06-26T12:21:41.498360Z"
    },
    "papermill": {
     "duration": 0.045872,
     "end_time": "2022-06-26T12:21:41.502220",
     "exception": false,
     "start_time": "2022-06-26T12:21:41.456348",
     "status": "completed"
    },
    "tags": []
   },
   "outputs": [
    {
     "data": {
      "text/html": [
       "<div>\n",
       "<style scoped>\n",
       "    .dataframe tbody tr th:only-of-type {\n",
       "        vertical-align: middle;\n",
       "    }\n",
       "\n",
       "    .dataframe tbody tr th {\n",
       "        vertical-align: top;\n",
       "    }\n",
       "\n",
       "    .dataframe thead th {\n",
       "        text-align: right;\n",
       "    }\n",
       "</style>\n",
       "<table border=\"1\" class=\"dataframe\">\n",
       "  <thead>\n",
       "    <tr style=\"text-align: right;\">\n",
       "      <th></th>\n",
       "      <th>PassengerId</th>\n",
       "      <th>HomePlanet</th>\n",
       "      <th>CryoSleep</th>\n",
       "      <th>Cabin</th>\n",
       "      <th>Destination</th>\n",
       "      <th>Age</th>\n",
       "      <th>VIP</th>\n",
       "      <th>RoomService</th>\n",
       "      <th>FoodCourt</th>\n",
       "      <th>ShoppingMall</th>\n",
       "      <th>Spa</th>\n",
       "      <th>VRDeck</th>\n",
       "      <th>Name</th>\n",
       "      <th>Transported</th>\n",
       "    </tr>\n",
       "  </thead>\n",
       "  <tbody>\n",
       "    <tr>\n",
       "      <th>0</th>\n",
       "      <td>0001_01</td>\n",
       "      <td>Europa</td>\n",
       "      <td>False</td>\n",
       "      <td>B/0/P</td>\n",
       "      <td>TRAPPIST-1e</td>\n",
       "      <td>39.0</td>\n",
       "      <td>False</td>\n",
       "      <td>0.0</td>\n",
       "      <td>0.0</td>\n",
       "      <td>0.0</td>\n",
       "      <td>0.0</td>\n",
       "      <td>0.0</td>\n",
       "      <td>Maham Ofracculy</td>\n",
       "      <td>False</td>\n",
       "    </tr>\n",
       "    <tr>\n",
       "      <th>1</th>\n",
       "      <td>0002_01</td>\n",
       "      <td>Earth</td>\n",
       "      <td>False</td>\n",
       "      <td>F/0/S</td>\n",
       "      <td>TRAPPIST-1e</td>\n",
       "      <td>24.0</td>\n",
       "      <td>False</td>\n",
       "      <td>109.0</td>\n",
       "      <td>9.0</td>\n",
       "      <td>25.0</td>\n",
       "      <td>549.0</td>\n",
       "      <td>44.0</td>\n",
       "      <td>Juanna Vines</td>\n",
       "      <td>True</td>\n",
       "    </tr>\n",
       "    <tr>\n",
       "      <th>2</th>\n",
       "      <td>0003_01</td>\n",
       "      <td>Europa</td>\n",
       "      <td>False</td>\n",
       "      <td>A/0/S</td>\n",
       "      <td>TRAPPIST-1e</td>\n",
       "      <td>58.0</td>\n",
       "      <td>True</td>\n",
       "      <td>43.0</td>\n",
       "      <td>3576.0</td>\n",
       "      <td>0.0</td>\n",
       "      <td>6715.0</td>\n",
       "      <td>49.0</td>\n",
       "      <td>Altark Susent</td>\n",
       "      <td>False</td>\n",
       "    </tr>\n",
       "    <tr>\n",
       "      <th>3</th>\n",
       "      <td>0003_02</td>\n",
       "      <td>Europa</td>\n",
       "      <td>False</td>\n",
       "      <td>A/0/S</td>\n",
       "      <td>TRAPPIST-1e</td>\n",
       "      <td>33.0</td>\n",
       "      <td>False</td>\n",
       "      <td>0.0</td>\n",
       "      <td>1283.0</td>\n",
       "      <td>371.0</td>\n",
       "      <td>3329.0</td>\n",
       "      <td>193.0</td>\n",
       "      <td>Solam Susent</td>\n",
       "      <td>False</td>\n",
       "    </tr>\n",
       "    <tr>\n",
       "      <th>4</th>\n",
       "      <td>0004_01</td>\n",
       "      <td>Earth</td>\n",
       "      <td>False</td>\n",
       "      <td>F/1/S</td>\n",
       "      <td>TRAPPIST-1e</td>\n",
       "      <td>16.0</td>\n",
       "      <td>False</td>\n",
       "      <td>303.0</td>\n",
       "      <td>70.0</td>\n",
       "      <td>151.0</td>\n",
       "      <td>565.0</td>\n",
       "      <td>2.0</td>\n",
       "      <td>Willy Santantines</td>\n",
       "      <td>True</td>\n",
       "    </tr>\n",
       "  </tbody>\n",
       "</table>\n",
       "</div>"
      ],
      "text/plain": [
       "  PassengerId HomePlanet CryoSleep  Cabin  Destination   Age    VIP  \\\n",
       "0     0001_01     Europa     False  B/0/P  TRAPPIST-1e  39.0  False   \n",
       "1     0002_01      Earth     False  F/0/S  TRAPPIST-1e  24.0  False   \n",
       "2     0003_01     Europa     False  A/0/S  TRAPPIST-1e  58.0   True   \n",
       "3     0003_02     Europa     False  A/0/S  TRAPPIST-1e  33.0  False   \n",
       "4     0004_01      Earth     False  F/1/S  TRAPPIST-1e  16.0  False   \n",
       "\n",
       "   RoomService  FoodCourt  ShoppingMall     Spa  VRDeck               Name  \\\n",
       "0          0.0        0.0           0.0     0.0     0.0    Maham Ofracculy   \n",
       "1        109.0        9.0          25.0   549.0    44.0       Juanna Vines   \n",
       "2         43.0     3576.0           0.0  6715.0    49.0      Altark Susent   \n",
       "3          0.0     1283.0         371.0  3329.0   193.0       Solam Susent   \n",
       "4        303.0       70.0         151.0   565.0     2.0  Willy Santantines   \n",
       "\n",
       "   Transported  \n",
       "0        False  \n",
       "1         True  \n",
       "2        False  \n",
       "3        False  \n",
       "4         True  "
      ]
     },
     "execution_count": 4,
     "metadata": {},
     "output_type": "execute_result"
    }
   ],
   "source": [
    "df_train.head()"
   ]
  },
  {
   "cell_type": "code",
   "execution_count": 5,
   "id": "cc8d0da5",
   "metadata": {
    "execution": {
     "iopub.execute_input": "2022-06-26T12:21:41.525924Z",
     "iopub.status.busy": "2022-06-26T12:21:41.525170Z",
     "iopub.status.idle": "2022-06-26T12:21:41.547221Z",
     "shell.execute_reply": "2022-06-26T12:21:41.545888Z"
    },
    "papermill": {
     "duration": 0.036651,
     "end_time": "2022-06-26T12:21:41.549668",
     "exception": false,
     "start_time": "2022-06-26T12:21:41.513017",
     "status": "completed"
    },
    "tags": []
   },
   "outputs": [
    {
     "data": {
      "text/html": [
       "<div>\n",
       "<style scoped>\n",
       "    .dataframe tbody tr th:only-of-type {\n",
       "        vertical-align: middle;\n",
       "    }\n",
       "\n",
       "    .dataframe tbody tr th {\n",
       "        vertical-align: top;\n",
       "    }\n",
       "\n",
       "    .dataframe thead th {\n",
       "        text-align: right;\n",
       "    }\n",
       "</style>\n",
       "<table border=\"1\" class=\"dataframe\">\n",
       "  <thead>\n",
       "    <tr style=\"text-align: right;\">\n",
       "      <th></th>\n",
       "      <th>PassengerId</th>\n",
       "      <th>HomePlanet</th>\n",
       "      <th>CryoSleep</th>\n",
       "      <th>Cabin</th>\n",
       "      <th>Destination</th>\n",
       "      <th>Age</th>\n",
       "      <th>VIP</th>\n",
       "      <th>RoomService</th>\n",
       "      <th>FoodCourt</th>\n",
       "      <th>ShoppingMall</th>\n",
       "      <th>Spa</th>\n",
       "      <th>VRDeck</th>\n",
       "      <th>Name</th>\n",
       "    </tr>\n",
       "  </thead>\n",
       "  <tbody>\n",
       "    <tr>\n",
       "      <th>0</th>\n",
       "      <td>0013_01</td>\n",
       "      <td>Earth</td>\n",
       "      <td>True</td>\n",
       "      <td>G/3/S</td>\n",
       "      <td>TRAPPIST-1e</td>\n",
       "      <td>27.0</td>\n",
       "      <td>False</td>\n",
       "      <td>0.0</td>\n",
       "      <td>0.0</td>\n",
       "      <td>0.0</td>\n",
       "      <td>0.0</td>\n",
       "      <td>0.0</td>\n",
       "      <td>Nelly Carsoning</td>\n",
       "    </tr>\n",
       "    <tr>\n",
       "      <th>1</th>\n",
       "      <td>0018_01</td>\n",
       "      <td>Earth</td>\n",
       "      <td>False</td>\n",
       "      <td>F/4/S</td>\n",
       "      <td>TRAPPIST-1e</td>\n",
       "      <td>19.0</td>\n",
       "      <td>False</td>\n",
       "      <td>0.0</td>\n",
       "      <td>9.0</td>\n",
       "      <td>0.0</td>\n",
       "      <td>2823.0</td>\n",
       "      <td>0.0</td>\n",
       "      <td>Lerome Peckers</td>\n",
       "    </tr>\n",
       "    <tr>\n",
       "      <th>2</th>\n",
       "      <td>0019_01</td>\n",
       "      <td>Europa</td>\n",
       "      <td>True</td>\n",
       "      <td>C/0/S</td>\n",
       "      <td>55 Cancri e</td>\n",
       "      <td>31.0</td>\n",
       "      <td>False</td>\n",
       "      <td>0.0</td>\n",
       "      <td>0.0</td>\n",
       "      <td>0.0</td>\n",
       "      <td>0.0</td>\n",
       "      <td>0.0</td>\n",
       "      <td>Sabih Unhearfus</td>\n",
       "    </tr>\n",
       "    <tr>\n",
       "      <th>3</th>\n",
       "      <td>0021_01</td>\n",
       "      <td>Europa</td>\n",
       "      <td>False</td>\n",
       "      <td>C/1/S</td>\n",
       "      <td>TRAPPIST-1e</td>\n",
       "      <td>38.0</td>\n",
       "      <td>False</td>\n",
       "      <td>0.0</td>\n",
       "      <td>6652.0</td>\n",
       "      <td>0.0</td>\n",
       "      <td>181.0</td>\n",
       "      <td>585.0</td>\n",
       "      <td>Meratz Caltilter</td>\n",
       "    </tr>\n",
       "    <tr>\n",
       "      <th>4</th>\n",
       "      <td>0023_01</td>\n",
       "      <td>Earth</td>\n",
       "      <td>False</td>\n",
       "      <td>F/5/S</td>\n",
       "      <td>TRAPPIST-1e</td>\n",
       "      <td>20.0</td>\n",
       "      <td>False</td>\n",
       "      <td>10.0</td>\n",
       "      <td>0.0</td>\n",
       "      <td>635.0</td>\n",
       "      <td>0.0</td>\n",
       "      <td>0.0</td>\n",
       "      <td>Brence Harperez</td>\n",
       "    </tr>\n",
       "  </tbody>\n",
       "</table>\n",
       "</div>"
      ],
      "text/plain": [
       "  PassengerId HomePlanet CryoSleep  Cabin  Destination   Age    VIP  \\\n",
       "0     0013_01      Earth      True  G/3/S  TRAPPIST-1e  27.0  False   \n",
       "1     0018_01      Earth     False  F/4/S  TRAPPIST-1e  19.0  False   \n",
       "2     0019_01     Europa      True  C/0/S  55 Cancri e  31.0  False   \n",
       "3     0021_01     Europa     False  C/1/S  TRAPPIST-1e  38.0  False   \n",
       "4     0023_01      Earth     False  F/5/S  TRAPPIST-1e  20.0  False   \n",
       "\n",
       "   RoomService  FoodCourt  ShoppingMall     Spa  VRDeck              Name  \n",
       "0          0.0        0.0           0.0     0.0     0.0   Nelly Carsoning  \n",
       "1          0.0        9.0           0.0  2823.0     0.0    Lerome Peckers  \n",
       "2          0.0        0.0           0.0     0.0     0.0   Sabih Unhearfus  \n",
       "3          0.0     6652.0           0.0   181.0   585.0  Meratz Caltilter  \n",
       "4         10.0        0.0         635.0     0.0     0.0   Brence Harperez  "
      ]
     },
     "execution_count": 5,
     "metadata": {},
     "output_type": "execute_result"
    }
   ],
   "source": [
    "df_test.head()"
   ]
  },
  {
   "cell_type": "code",
   "execution_count": 6,
   "id": "f46c63e0",
   "metadata": {
    "execution": {
     "iopub.execute_input": "2022-06-26T12:21:41.574636Z",
     "iopub.status.busy": "2022-06-26T12:21:41.573888Z",
     "iopub.status.idle": "2022-06-26T12:21:41.607602Z",
     "shell.execute_reply": "2022-06-26T12:21:41.605870Z"
    },
    "papermill": {
     "duration": 0.049519,
     "end_time": "2022-06-26T12:21:41.611321",
     "exception": false,
     "start_time": "2022-06-26T12:21:41.561802",
     "status": "completed"
    },
    "tags": []
   },
   "outputs": [
    {
     "name": "stdout",
     "output_type": "stream",
     "text": [
      "<class 'pandas.core.frame.DataFrame'>\n",
      "RangeIndex: 8693 entries, 0 to 8692\n",
      "Data columns (total 14 columns):\n",
      " #   Column        Non-Null Count  Dtype  \n",
      "---  ------        --------------  -----  \n",
      " 0   PassengerId   8693 non-null   object \n",
      " 1   HomePlanet    8492 non-null   object \n",
      " 2   CryoSleep     8476 non-null   object \n",
      " 3   Cabin         8494 non-null   object \n",
      " 4   Destination   8511 non-null   object \n",
      " 5   Age           8514 non-null   float64\n",
      " 6   VIP           8490 non-null   object \n",
      " 7   RoomService   8512 non-null   float64\n",
      " 8   FoodCourt     8510 non-null   float64\n",
      " 9   ShoppingMall  8485 non-null   float64\n",
      " 10  Spa           8510 non-null   float64\n",
      " 11  VRDeck        8505 non-null   float64\n",
      " 12  Name          8493 non-null   object \n",
      " 13  Transported   8693 non-null   bool   \n",
      "dtypes: bool(1), float64(6), object(7)\n",
      "memory usage: 891.5+ KB\n"
     ]
    }
   ],
   "source": [
    "#df_train=df_train.drop(['PassengerId','Name'],axis=1)\n",
    "df_train.info()"
   ]
  },
  {
   "cell_type": "code",
   "execution_count": 7,
   "id": "b5fdc80d",
   "metadata": {
    "execution": {
     "iopub.execute_input": "2022-06-26T12:21:41.637219Z",
     "iopub.status.busy": "2022-06-26T12:21:41.636323Z",
     "iopub.status.idle": "2022-06-26T12:21:41.654234Z",
     "shell.execute_reply": "2022-06-26T12:21:41.652821Z"
    },
    "papermill": {
     "duration": 0.03432,
     "end_time": "2022-06-26T12:21:41.657471",
     "exception": false,
     "start_time": "2022-06-26T12:21:41.623151",
     "status": "completed"
    },
    "tags": []
   },
   "outputs": [
    {
     "name": "stdout",
     "output_type": "stream",
     "text": [
      "<class 'pandas.core.frame.DataFrame'>\n",
      "RangeIndex: 4277 entries, 0 to 4276\n",
      "Data columns (total 13 columns):\n",
      " #   Column        Non-Null Count  Dtype  \n",
      "---  ------        --------------  -----  \n",
      " 0   PassengerId   4277 non-null   object \n",
      " 1   HomePlanet    4190 non-null   object \n",
      " 2   CryoSleep     4184 non-null   object \n",
      " 3   Cabin         4177 non-null   object \n",
      " 4   Destination   4185 non-null   object \n",
      " 5   Age           4186 non-null   float64\n",
      " 6   VIP           4184 non-null   object \n",
      " 7   RoomService   4195 non-null   float64\n",
      " 8   FoodCourt     4171 non-null   float64\n",
      " 9   ShoppingMall  4179 non-null   float64\n",
      " 10  Spa           4176 non-null   float64\n",
      " 11  VRDeck        4197 non-null   float64\n",
      " 12  Name          4183 non-null   object \n",
      "dtypes: float64(6), object(7)\n",
      "memory usage: 434.5+ KB\n"
     ]
    }
   ],
   "source": [
    "df_test.info()"
   ]
  },
  {
   "cell_type": "code",
   "execution_count": null,
   "id": "7de2b9cf",
   "metadata": {
    "papermill": {
     "duration": 0.010841,
     "end_time": "2022-06-26T12:21:41.680575",
     "exception": false,
     "start_time": "2022-06-26T12:21:41.669734",
     "status": "completed"
    },
    "tags": []
   },
   "outputs": [],
   "source": []
  },
  {
   "cell_type": "markdown",
   "id": "2a6e8df4",
   "metadata": {
    "papermill": {
     "duration": 0.010788,
     "end_time": "2022-06-26T12:21:41.702615",
     "exception": false,
     "start_time": "2022-06-26T12:21:41.691827",
     "status": "completed"
    },
    "tags": []
   },
   "source": [
    "# 3. Data Cleaning and preprocessing"
   ]
  },
  {
   "cell_type": "code",
   "execution_count": 8,
   "id": "3620c80e",
   "metadata": {
    "execution": {
     "iopub.execute_input": "2022-06-26T12:21:41.726927Z",
     "iopub.status.busy": "2022-06-26T12:21:41.726149Z",
     "iopub.status.idle": "2022-06-26T12:21:41.744097Z",
     "shell.execute_reply": "2022-06-26T12:21:41.742911Z"
    },
    "papermill": {
     "duration": 0.032676,
     "end_time": "2022-06-26T12:21:41.746529",
     "exception": false,
     "start_time": "2022-06-26T12:21:41.713853",
     "status": "completed"
    },
    "tags": []
   },
   "outputs": [
    {
     "data": {
      "text/plain": [
       "PassengerId       0\n",
       "HomePlanet      201\n",
       "CryoSleep       217\n",
       "Cabin           199\n",
       "Destination     182\n",
       "Age             179\n",
       "VIP             203\n",
       "RoomService     181\n",
       "FoodCourt       183\n",
       "ShoppingMall    208\n",
       "Spa             183\n",
       "VRDeck          188\n",
       "Name            200\n",
       "Transported       0\n",
       "dtype: int64"
      ]
     },
     "execution_count": 8,
     "metadata": {},
     "output_type": "execute_result"
    }
   ],
   "source": [
    "#Checking for missing values in each column of the training dataset\n",
    "df_train.isna().sum()"
   ]
  },
  {
   "cell_type": "code",
   "execution_count": 9,
   "id": "ca49eba6",
   "metadata": {
    "execution": {
     "iopub.execute_input": "2022-06-26T12:21:41.770863Z",
     "iopub.status.busy": "2022-06-26T12:21:41.770501Z",
     "iopub.status.idle": "2022-06-26T12:21:42.555028Z",
     "shell.execute_reply": "2022-06-26T12:21:42.553544Z"
    },
    "papermill": {
     "duration": 0.799783,
     "end_time": "2022-06-26T12:21:42.557658",
     "exception": false,
     "start_time": "2022-06-26T12:21:41.757875",
     "status": "completed"
    },
    "tags": []
   },
   "outputs": [
    {
     "data": {
      "text/plain": [
       "<seaborn.axisgrid.FacetGrid at 0x7f77a7ac6e50>"
      ]
     },
     "execution_count": 9,
     "metadata": {},
     "output_type": "execute_result"
    },
    {
     "data": {
      "text/plain": [
       "<Figure size 720x432 with 0 Axes>"
      ]
     },
     "metadata": {},
     "output_type": "display_data"
    },
    {
     "data": {
      "image/png": "[encoded data removed]",
      "text/plain": [
       "<Figure size 511.25x360 with 1 Axes>"
      ]
     },
     "metadata": {
      "needs_background": "light"
     },
     "output_type": "display_data"
    }
   ],
   "source": [
    "plt.figure(figsize=(10,6))\n",
    "sns.displot(\n",
    "    data=df_train.isna().melt(value_name=\"missing\"),\n",
    "    y=\"variable\",\n",
    "    hue=\"missing\",\n",
    "    multiple=\"fill\",\n",
    "    aspect=1.25\n",
    ")"
   ]
  },
  {
   "cell_type": "code",
   "execution_count": 10,
   "id": "014b07f6",
   "metadata": {
    "execution": {
     "iopub.execute_input": "2022-06-26T12:21:42.583669Z",
     "iopub.status.busy": "2022-06-26T12:21:42.582954Z",
     "iopub.status.idle": "2022-06-26T12:21:42.652357Z",
     "shell.execute_reply": "2022-06-26T12:21:42.650957Z"
    },
    "papermill": {
     "duration": 0.085402,
     "end_time": "2022-06-26T12:21:42.655051",
     "exception": false,
     "start_time": "2022-06-26T12:21:42.569649",
     "status": "completed"
    },
    "tags": []
   },
   "outputs": [],
   "source": [
    "#Split df_train and df_test columns into numerical and categorical \n",
    "num_features=[col for col in df_train.select_dtypes('number')]\n",
    "categ_features=[col for col in df_train.select_dtypes(exclude=['number'])]\n",
    "test_categ_features=[col for col in df_test.select_dtypes(exclude=['number'])]\n",
    "\n",
    "#replace missing values in each numerical column with the mediane\n",
    "for col in num_features:\n",
    "    df_train[col].fillna(df_train[col].mean(), inplace=True)\n",
    "    df_test[col].fillna(df_test[col].mean(), inplace=True)\n",
    "    \n",
    "#replace missing values in each categorical column with the most frequent value\n",
    "for col in categ_features:\n",
    "    df_train[col].fillna(df_train[col].value_counts().index[0], inplace=True)\n",
    "for col in test_categ_features:\n",
    "    df_test[col].fillna(df_test[col].value_counts().index[0], inplace=True)   "
   ]
  },
  {
   "cell_type": "code",
   "execution_count": 11,
   "id": "ab9fccdf",
   "metadata": {
    "execution": {
     "iopub.execute_input": "2022-06-26T12:21:42.681275Z",
     "iopub.status.busy": "2022-06-26T12:21:42.680173Z",
     "iopub.status.idle": "2022-06-26T12:21:42.694151Z",
     "shell.execute_reply": "2022-06-26T12:21:42.693164Z"
    },
    "papermill": {
     "duration": 0.029776,
     "end_time": "2022-06-26T12:21:42.696771",
     "exception": false,
     "start_time": "2022-06-26T12:21:42.666995",
     "status": "completed"
    },
    "tags": []
   },
   "outputs": [
    {
     "data": {
      "text/plain": [
       "PassengerId     0\n",
       "HomePlanet      0\n",
       "CryoSleep       0\n",
       "Cabin           0\n",
       "Destination     0\n",
       "Age             0\n",
       "VIP             0\n",
       "RoomService     0\n",
       "FoodCourt       0\n",
       "ShoppingMall    0\n",
       "Spa             0\n",
       "VRDeck          0\n",
       "Name            0\n",
       "Transported     0\n",
       "dtype: int64"
      ]
     },
     "execution_count": 11,
     "metadata": {},
     "output_type": "execute_result"
    }
   ],
   "source": [
    "df_train.isna().sum()\n"
   ]
  },
  {
   "cell_type": "code",
   "execution_count": 12,
   "id": "95f503bb",
   "metadata": {
    "execution": {
     "iopub.execute_input": "2022-06-26T12:21:42.723185Z",
     "iopub.status.busy": "2022-06-26T12:21:42.722222Z",
     "iopub.status.idle": "2022-06-26T12:21:42.733491Z",
     "shell.execute_reply": "2022-06-26T12:21:42.732368Z"
    },
    "papermill": {
     "duration": 0.026917,
     "end_time": "2022-06-26T12:21:42.735852",
     "exception": false,
     "start_time": "2022-06-26T12:21:42.708935",
     "status": "completed"
    },
    "tags": []
   },
   "outputs": [
    {
     "data": {
      "text/plain": [
       "PassengerId     0\n",
       "HomePlanet      0\n",
       "CryoSleep       0\n",
       "Cabin           0\n",
       "Destination     0\n",
       "Age             0\n",
       "VIP             0\n",
       "RoomService     0\n",
       "FoodCourt       0\n",
       "ShoppingMall    0\n",
       "Spa             0\n",
       "VRDeck          0\n",
       "Name            0\n",
       "dtype: int64"
      ]
     },
     "execution_count": 12,
     "metadata": {},
     "output_type": "execute_result"
    }
   ],
   "source": [
    "#Checking for missing values in df_test after imputation\n",
    "df_test.isna().sum()"
   ]
  },
  {
   "cell_type": "code",
   "execution_count": null,
   "id": "cf872af2",
   "metadata": {
    "papermill": {
     "duration": 0.011715,
     "end_time": "2022-06-26T12:21:42.759725",
     "exception": false,
     "start_time": "2022-06-26T12:21:42.748010",
     "status": "completed"
    },
    "tags": []
   },
   "outputs": [],
   "source": []
  },
  {
   "cell_type": "code",
   "execution_count": 13,
   "id": "8f8c36cc",
   "metadata": {
    "execution": {
     "iopub.execute_input": "2022-06-26T12:21:42.785779Z",
     "iopub.status.busy": "2022-06-26T12:21:42.785366Z",
     "iopub.status.idle": "2022-06-26T12:21:42.798649Z",
     "shell.execute_reply": "2022-06-26T12:21:42.796681Z"
    },
    "papermill": {
     "duration": 0.029349,
     "end_time": "2022-06-26T12:21:42.801211",
     "exception": false,
     "start_time": "2022-06-26T12:21:42.771862",
     "status": "completed"
    },
    "tags": []
   },
   "outputs": [
    {
     "name": "stdout",
     "output_type": "stream",
     "text": [
      "PassengerId  :  8693 \n",
      "HomePlanet  :  3 \n",
      "CryoSleep  :  2 \n",
      "Cabin  :  6560 \n",
      "Destination  :  3 \n",
      "VIP  :  2 \n",
      "Name  :  8473 \n",
      "Transported  :  2 \n"
     ]
    }
   ],
   "source": [
    "for col in categ_features:\n",
    "    print(\"{0}  :  {1} \".format(col, len(df_train[col].unique())))"
   ]
  },
  {
   "cell_type": "code",
   "execution_count": 14,
   "id": "8f93f6da",
   "metadata": {
    "execution": {
     "iopub.execute_input": "2022-06-26T12:21:42.828000Z",
     "iopub.status.busy": "2022-06-26T12:21:42.827605Z",
     "iopub.status.idle": "2022-06-26T12:21:44.442327Z",
     "shell.execute_reply": "2022-06-26T12:21:44.441168Z"
    },
    "papermill": {
     "duration": 1.631418,
     "end_time": "2022-06-26T12:21:44.444959",
     "exception": false,
     "start_time": "2022-06-26T12:21:42.813541",
     "status": "completed"
    },
    "tags": []
   },
   "outputs": [],
   "source": [
    "#Creating new features for training dataset and test dataset\n",
    "\n",
    "#Cabin has three values deck/num/side, so we'll create two columns for deck and side\n",
    "df_train[\"Deck\"] = df_train[\"Cabin\"].apply(lambda x: str(x).split(\"/\")[0])\n",
    "df_test[\"Deck\"] = df_test[\"Cabin\"].apply(lambda x: str(x).split(\"/\")[0])\n",
    "df_train[\"side\"] =df_train[\"Cabin\"].apply(lambda x: x.split(\"/\")[2])\n",
    "df_test[\"side\"] = df_test[\"Cabin\"].apply(lambda x: x.split(\"/\")[2])\n",
    "\n",
    "#Each Id takes the form gggg_pp where gggg indicates a group the passenger is travelling with and pp is their number within the group, so we'll create two new features GroupId and GroupIdNumber\n",
    "df_train[\"GroupId\"] = df_train[\"PassengerId\"].apply(lambda x: x.split(\"_\")[0])\n",
    "df_test[\"GroupId\"] = df_test[\"PassengerId\"].apply(lambda x: x.split(\"_\")[0])\n",
    "df_train[\"GroupIdNumber\"] =df_train[\"PassengerId\"].apply(lambda x: x.split(\"_\")[1])\n",
    "df_test[\"GroupIdNumber\"] = df_test[\"PassengerId\"].apply(lambda x: x.split(\"_\")[1])\n",
    "\n",
    "# Creating new feature InGroup to indicate if a passenger is alone or in group\n",
    "Group_train =df_train[df_train[\"GroupId\"].duplicated()][\"GroupId\"]\n",
    "Group_test =df_test[df_test[\"GroupId\"].duplicated()][\"GroupId\"]\n",
    "df_train[\"InGroup\"] = df_train[\"GroupId\"].apply(lambda x: x in Group_train.values)\n",
    "df_test[\"InGroup\"] = df_test[\"GroupId\"].apply(lambda x: x in Group_test.values)"
   ]
  },
  {
   "cell_type": "code",
   "execution_count": 15,
   "id": "02b79a28",
   "metadata": {
    "execution": {
     "iopub.execute_input": "2022-06-26T12:21:44.471701Z",
     "iopub.status.busy": "2022-06-26T12:21:44.470974Z",
     "iopub.status.idle": "2022-06-26T12:21:44.482159Z",
     "shell.execute_reply": "2022-06-26T12:21:44.481046Z"
    },
    "papermill": {
     "duration": 0.027014,
     "end_time": "2022-06-26T12:21:44.484524",
     "exception": false,
     "start_time": "2022-06-26T12:21:44.457510",
     "status": "completed"
    },
    "tags": []
   },
   "outputs": [],
   "source": [
    "#Drop 'PassengerId','Cabin','Name','GroupId','GroupIdNumber' from df_train\n",
    "df_train.drop(['PassengerId','Cabin','Name','GroupId','GroupIdNumber'], axis=1, inplace=True)\n",
    "#Save PassengerId and Name\n",
    "Id_test_list = df_test[\"PassengerId\"].tolist()\n",
    "#Drop 'PassengerId','Cabin','Name','GroupId','GroupIdNumber' from df_test\n",
    "df_test.drop(['PassengerId','Cabin','Name','GroupId','GroupIdNumber'], axis=1, inplace=True)"
   ]
  },
  {
   "cell_type": "code",
   "execution_count": 16,
   "id": "59e0bc73",
   "metadata": {
    "execution": {
     "iopub.execute_input": "2022-06-26T12:21:44.511038Z",
     "iopub.status.busy": "2022-06-26T12:21:44.510284Z",
     "iopub.status.idle": "2022-06-26T12:21:44.527934Z",
     "shell.execute_reply": "2022-06-26T12:21:44.527146Z"
    },
    "papermill": {
     "duration": 0.033464,
     "end_time": "2022-06-26T12:21:44.530239",
     "exception": false,
     "start_time": "2022-06-26T12:21:44.496775",
     "status": "completed"
    },
    "tags": []
   },
   "outputs": [
    {
     "name": "stdout",
     "output_type": "stream",
     "text": [
      "<class 'pandas.core.frame.DataFrame'>\n",
      "RangeIndex: 8693 entries, 0 to 8692\n",
      "Data columns (total 14 columns):\n",
      " #   Column        Non-Null Count  Dtype  \n",
      "---  ------        --------------  -----  \n",
      " 0   HomePlanet    8693 non-null   object \n",
      " 1   CryoSleep     8693 non-null   bool   \n",
      " 2   Destination   8693 non-null   object \n",
      " 3   Age           8693 non-null   float64\n",
      " 4   VIP           8693 non-null   bool   \n",
      " 5   RoomService   8693 non-null   float64\n",
      " 6   FoodCourt     8693 non-null   float64\n",
      " 7   ShoppingMall  8693 non-null   float64\n",
      " 8   Spa           8693 non-null   float64\n",
      " 9   VRDeck        8693 non-null   float64\n",
      " 10  Transported   8693 non-null   bool   \n",
      " 11  Deck          8693 non-null   object \n",
      " 12  side          8693 non-null   object \n",
      " 13  InGroup       8693 non-null   bool   \n",
      "dtypes: bool(4), float64(6), object(4)\n",
      "memory usage: 713.2+ KB\n"
     ]
    }
   ],
   "source": [
    "df_train.info()"
   ]
  },
  {
   "cell_type": "code",
   "execution_count": 17,
   "id": "e6c6f360",
   "metadata": {
    "execution": {
     "iopub.execute_input": "2022-06-26T12:21:44.557121Z",
     "iopub.status.busy": "2022-06-26T12:21:44.556715Z",
     "iopub.status.idle": "2022-06-26T12:21:44.572732Z",
     "shell.execute_reply": "2022-06-26T12:21:44.571251Z"
    },
    "papermill": {
     "duration": 0.032723,
     "end_time": "2022-06-26T12:21:44.575945",
     "exception": false,
     "start_time": "2022-06-26T12:21:44.543222",
     "status": "completed"
    },
    "tags": []
   },
   "outputs": [
    {
     "name": "stdout",
     "output_type": "stream",
     "text": [
      "HomePlanet : ['Europa' 'Earth' 'Mars'] : 3\n",
      "CryoSleep : [False  True] : 2\n",
      "Destination : ['TRAPPIST-1e' 'PSO J318.5-22' '55 Cancri e'] : 3\n",
      "VIP : [False  True] : 2\n",
      "Transported : [False  True] : 2\n",
      "Deck : ['B' 'F' 'A' 'G' 'E' 'D' 'C' 'T'] : 8\n",
      "side : ['P' 'S'] : 2\n",
      "InGroup : [False  True] : 2\n"
     ]
    }
   ],
   "source": [
    "#print categories of each categorical column after removing unnecessary columns\n",
    "for col in df_train.select_dtypes(exclude=['number']):\n",
    "    print(f'{col} : {df_train[col].unique()} : {len(df_train[col].unique())}')"
   ]
  },
  {
   "cell_type": "code",
   "execution_count": null,
   "id": "8d5259f2",
   "metadata": {
    "papermill": {
     "duration": 0.011946,
     "end_time": "2022-06-26T12:21:44.600627",
     "exception": false,
     "start_time": "2022-06-26T12:21:44.588681",
     "status": "completed"
    },
    "tags": []
   },
   "outputs": [],
   "source": []
  },
  {
   "cell_type": "code",
   "execution_count": null,
   "id": "7d9ff30c",
   "metadata": {
    "papermill": {
     "duration": 0.01201,
     "end_time": "2022-06-26T12:21:44.624994",
     "exception": false,
     "start_time": "2022-06-26T12:21:44.612984",
     "status": "completed"
    },
    "tags": []
   },
   "outputs": [],
   "source": []
  },
  {
   "cell_type": "code",
   "execution_count": null,
   "id": "193b6cb0",
   "metadata": {
    "papermill": {
     "duration": 0.011974,
     "end_time": "2022-06-26T12:21:44.649653",
     "exception": false,
     "start_time": "2022-06-26T12:21:44.637679",
     "status": "completed"
    },
    "tags": []
   },
   "outputs": [],
   "source": []
  },
  {
   "cell_type": "code",
   "execution_count": null,
   "id": "3cec8935",
   "metadata": {
    "papermill": {
     "duration": 0.011847,
     "end_time": "2022-06-26T12:21:44.673706",
     "exception": false,
     "start_time": "2022-06-26T12:21:44.661859",
     "status": "completed"
    },
    "tags": []
   },
   "outputs": [],
   "source": []
  },
  {
   "cell_type": "code",
   "execution_count": 18,
   "id": "a19d9f2d",
   "metadata": {
    "execution": {
     "iopub.execute_input": "2022-06-26T12:21:44.699806Z",
     "iopub.status.busy": "2022-06-26T12:21:44.699434Z",
     "iopub.status.idle": "2022-06-26T12:21:45.079053Z",
     "shell.execute_reply": "2022-06-26T12:21:45.077915Z"
    },
    "papermill": {
     "duration": 0.395813,
     "end_time": "2022-06-26T12:21:45.081710",
     "exception": false,
     "start_time": "2022-06-26T12:21:44.685897",
     "status": "completed"
    },
    "tags": []
   },
   "outputs": [
    {
     "data": {
      "image/png": "[encoded data removed]",
      "text/plain": [
       "<Figure size 720x360 with 2 Axes>"
      ]
     },
     "metadata": {
      "needs_background": "light"
     },
     "output_type": "display_data"
    }
   ],
   "source": [
    "plt.figure(figsize=(10,5))\n",
    "sns.heatmap(df_train.select_dtypes('number').corr(),cmap='BuPu',annot=True)\n",
    "plt.title ('Correlation', fontsize=20)\n",
    "plt.show()"
   ]
  },
  {
   "cell_type": "code",
   "execution_count": 19,
   "id": "04daa813",
   "metadata": {
    "execution": {
     "iopub.execute_input": "2022-06-26T12:21:45.109889Z",
     "iopub.status.busy": "2022-06-26T12:21:45.109518Z",
     "iopub.status.idle": "2022-06-26T12:21:45.115057Z",
     "shell.execute_reply": "2022-06-26T12:21:45.113760Z"
    },
    "papermill": {
     "duration": 0.02278,
     "end_time": "2022-06-26T12:21:45.117501",
     "exception": false,
     "start_time": "2022-06-26T12:21:45.094721",
     "status": "completed"
    },
    "tags": []
   },
   "outputs": [],
   "source": [
    "df=df_train.copy()\n"
   ]
  },
  {
   "cell_type": "code",
   "execution_count": 20,
   "id": "2a410b87",
   "metadata": {
    "execution": {
     "iopub.execute_input": "2022-06-26T12:21:45.151657Z",
     "iopub.status.busy": "2022-06-26T12:21:45.150841Z",
     "iopub.status.idle": "2022-06-26T12:21:45.180734Z",
     "shell.execute_reply": "2022-06-26T12:21:45.179912Z"
    },
    "papermill": {
     "duration": 0.052657,
     "end_time": "2022-06-26T12:21:45.183347",
     "exception": false,
     "start_time": "2022-06-26T12:21:45.130690",
     "status": "completed"
    },
    "tags": []
   },
   "outputs": [
    {
     "data": {
      "text/html": [
       "<div>\n",
       "<style scoped>\n",
       "    .dataframe tbody tr th:only-of-type {\n",
       "        vertical-align: middle;\n",
       "    }\n",
       "\n",
       "    .dataframe tbody tr th {\n",
       "        vertical-align: top;\n",
       "    }\n",
       "\n",
       "    .dataframe thead th {\n",
       "        text-align: right;\n",
       "    }\n",
       "</style>\n",
       "<table border=\"1\" class=\"dataframe\">\n",
       "  <thead>\n",
       "    <tr style=\"text-align: right;\">\n",
       "      <th></th>\n",
       "      <th>HomePlanet</th>\n",
       "      <th>CryoSleep</th>\n",
       "      <th>Destination</th>\n",
       "      <th>Age</th>\n",
       "      <th>VIP</th>\n",
       "      <th>RoomService</th>\n",
       "      <th>FoodCourt</th>\n",
       "      <th>ShoppingMall</th>\n",
       "      <th>Spa</th>\n",
       "      <th>VRDeck</th>\n",
       "      <th>Transported</th>\n",
       "      <th>Deck</th>\n",
       "      <th>side</th>\n",
       "      <th>InGroup</th>\n",
       "    </tr>\n",
       "  </thead>\n",
       "  <tbody>\n",
       "    <tr>\n",
       "      <th>0</th>\n",
       "      <td>Europa</td>\n",
       "      <td>False</td>\n",
       "      <td>TRAPPIST-1e</td>\n",
       "      <td>39.0</td>\n",
       "      <td>False</td>\n",
       "      <td>0.0</td>\n",
       "      <td>0.0</td>\n",
       "      <td>0.0</td>\n",
       "      <td>0.0</td>\n",
       "      <td>0.0</td>\n",
       "      <td>False</td>\n",
       "      <td>B</td>\n",
       "      <td>P</td>\n",
       "      <td>False</td>\n",
       "    </tr>\n",
       "    <tr>\n",
       "      <th>1</th>\n",
       "      <td>Earth</td>\n",
       "      <td>False</td>\n",
       "      <td>TRAPPIST-1e</td>\n",
       "      <td>24.0</td>\n",
       "      <td>False</td>\n",
       "      <td>109.0</td>\n",
       "      <td>9.0</td>\n",
       "      <td>25.0</td>\n",
       "      <td>549.0</td>\n",
       "      <td>44.0</td>\n",
       "      <td>True</td>\n",
       "      <td>F</td>\n",
       "      <td>S</td>\n",
       "      <td>False</td>\n",
       "    </tr>\n",
       "    <tr>\n",
       "      <th>2</th>\n",
       "      <td>Europa</td>\n",
       "      <td>False</td>\n",
       "      <td>TRAPPIST-1e</td>\n",
       "      <td>58.0</td>\n",
       "      <td>True</td>\n",
       "      <td>43.0</td>\n",
       "      <td>3576.0</td>\n",
       "      <td>0.0</td>\n",
       "      <td>6715.0</td>\n",
       "      <td>49.0</td>\n",
       "      <td>False</td>\n",
       "      <td>A</td>\n",
       "      <td>S</td>\n",
       "      <td>True</td>\n",
       "    </tr>\n",
       "    <tr>\n",
       "      <th>3</th>\n",
       "      <td>Europa</td>\n",
       "      <td>False</td>\n",
       "      <td>TRAPPIST-1e</td>\n",
       "      <td>33.0</td>\n",
       "      <td>False</td>\n",
       "      <td>0.0</td>\n",
       "      <td>1283.0</td>\n",
       "      <td>371.0</td>\n",
       "      <td>3329.0</td>\n",
       "      <td>193.0</td>\n",
       "      <td>False</td>\n",
       "      <td>A</td>\n",
       "      <td>S</td>\n",
       "      <td>True</td>\n",
       "    </tr>\n",
       "    <tr>\n",
       "      <th>4</th>\n",
       "      <td>Earth</td>\n",
       "      <td>False</td>\n",
       "      <td>TRAPPIST-1e</td>\n",
       "      <td>16.0</td>\n",
       "      <td>False</td>\n",
       "      <td>303.0</td>\n",
       "      <td>70.0</td>\n",
       "      <td>151.0</td>\n",
       "      <td>565.0</td>\n",
       "      <td>2.0</td>\n",
       "      <td>True</td>\n",
       "      <td>F</td>\n",
       "      <td>S</td>\n",
       "      <td>False</td>\n",
       "    </tr>\n",
       "    <tr>\n",
       "      <th>...</th>\n",
       "      <td>...</td>\n",
       "      <td>...</td>\n",
       "      <td>...</td>\n",
       "      <td>...</td>\n",
       "      <td>...</td>\n",
       "      <td>...</td>\n",
       "      <td>...</td>\n",
       "      <td>...</td>\n",
       "      <td>...</td>\n",
       "      <td>...</td>\n",
       "      <td>...</td>\n",
       "      <td>...</td>\n",
       "      <td>...</td>\n",
       "      <td>...</td>\n",
       "    </tr>\n",
       "    <tr>\n",
       "      <th>8688</th>\n",
       "      <td>Europa</td>\n",
       "      <td>False</td>\n",
       "      <td>55 Cancri e</td>\n",
       "      <td>41.0</td>\n",
       "      <td>True</td>\n",
       "      <td>0.0</td>\n",
       "      <td>6819.0</td>\n",
       "      <td>0.0</td>\n",
       "      <td>1643.0</td>\n",
       "      <td>74.0</td>\n",
       "      <td>False</td>\n",
       "      <td>A</td>\n",
       "      <td>P</td>\n",
       "      <td>False</td>\n",
       "    </tr>\n",
       "    <tr>\n",
       "      <th>8689</th>\n",
       "      <td>Earth</td>\n",
       "      <td>True</td>\n",
       "      <td>PSO J318.5-22</td>\n",
       "      <td>18.0</td>\n",
       "      <td>False</td>\n",
       "      <td>0.0</td>\n",
       "      <td>0.0</td>\n",
       "      <td>0.0</td>\n",
       "      <td>0.0</td>\n",
       "      <td>0.0</td>\n",
       "      <td>False</td>\n",
       "      <td>G</td>\n",
       "      <td>S</td>\n",
       "      <td>False</td>\n",
       "    </tr>\n",
       "    <tr>\n",
       "      <th>8690</th>\n",
       "      <td>Earth</td>\n",
       "      <td>False</td>\n",
       "      <td>TRAPPIST-1e</td>\n",
       "      <td>26.0</td>\n",
       "      <td>False</td>\n",
       "      <td>0.0</td>\n",
       "      <td>0.0</td>\n",
       "      <td>1872.0</td>\n",
       "      <td>1.0</td>\n",
       "      <td>0.0</td>\n",
       "      <td>True</td>\n",
       "      <td>G</td>\n",
       "      <td>S</td>\n",
       "      <td>False</td>\n",
       "    </tr>\n",
       "    <tr>\n",
       "      <th>8691</th>\n",
       "      <td>Europa</td>\n",
       "      <td>False</td>\n",
       "      <td>55 Cancri e</td>\n",
       "      <td>32.0</td>\n",
       "      <td>False</td>\n",
       "      <td>0.0</td>\n",
       "      <td>1049.0</td>\n",
       "      <td>0.0</td>\n",
       "      <td>353.0</td>\n",
       "      <td>3235.0</td>\n",
       "      <td>False</td>\n",
       "      <td>E</td>\n",
       "      <td>S</td>\n",
       "      <td>True</td>\n",
       "    </tr>\n",
       "    <tr>\n",
       "      <th>8692</th>\n",
       "      <td>Europa</td>\n",
       "      <td>False</td>\n",
       "      <td>TRAPPIST-1e</td>\n",
       "      <td>44.0</td>\n",
       "      <td>False</td>\n",
       "      <td>126.0</td>\n",
       "      <td>4688.0</td>\n",
       "      <td>0.0</td>\n",
       "      <td>0.0</td>\n",
       "      <td>12.0</td>\n",
       "      <td>True</td>\n",
       "      <td>E</td>\n",
       "      <td>S</td>\n",
       "      <td>True</td>\n",
       "    </tr>\n",
       "  </tbody>\n",
       "</table>\n",
       "<p>8693 rows × 14 columns</p>\n",
       "</div>"
      ],
      "text/plain": [
       "     HomePlanet  CryoSleep    Destination   Age    VIP  RoomService  \\\n",
       "0        Europa      False    TRAPPIST-1e  39.0  False          0.0   \n",
       "1         Earth      False    TRAPPIST-1e  24.0  False        109.0   \n",
       "2        Europa      False    TRAPPIST-1e  58.0   True         43.0   \n",
       "3        Europa      False    TRAPPIST-1e  33.0  False          0.0   \n",
       "4         Earth      False    TRAPPIST-1e  16.0  False        303.0   \n",
       "...         ...        ...            ...   ...    ...          ...   \n",
       "8688     Europa      False    55 Cancri e  41.0   True          0.0   \n",
       "8689      Earth       True  PSO J318.5-22  18.0  False          0.0   \n",
       "8690      Earth      False    TRAPPIST-1e  26.0  False          0.0   \n",
       "8691     Europa      False    55 Cancri e  32.0  False          0.0   \n",
       "8692     Europa      False    TRAPPIST-1e  44.0  False        126.0   \n",
       "\n",
       "      FoodCourt  ShoppingMall     Spa  VRDeck  Transported Deck side  InGroup  \n",
       "0           0.0           0.0     0.0     0.0        False    B    P    False  \n",
       "1           9.0          25.0   549.0    44.0         True    F    S    False  \n",
       "2        3576.0           0.0  6715.0    49.0        False    A    S     True  \n",
       "3        1283.0         371.0  3329.0   193.0        False    A    S     True  \n",
       "4          70.0         151.0   565.0     2.0         True    F    S    False  \n",
       "...         ...           ...     ...     ...          ...  ...  ...      ...  \n",
       "8688     6819.0           0.0  1643.0    74.0        False    A    P    False  \n",
       "8689        0.0           0.0     0.0     0.0        False    G    S    False  \n",
       "8690        0.0        1872.0     1.0     0.0         True    G    S    False  \n",
       "8691     1049.0           0.0   353.0  3235.0        False    E    S     True  \n",
       "8692     4688.0           0.0     0.0    12.0         True    E    S     True  \n",
       "\n",
       "[8693 rows x 14 columns]"
      ]
     },
     "execution_count": 20,
     "metadata": {},
     "output_type": "execute_result"
    }
   ],
   "source": [
    "df_train"
   ]
  },
  {
   "cell_type": "markdown",
   "id": "68b1c5ae",
   "metadata": {
    "papermill": {
     "duration": 0.013196,
     "end_time": "2022-06-26T12:21:45.212432",
     "exception": false,
     "start_time": "2022-06-26T12:21:45.199236",
     "status": "completed"
    },
    "tags": []
   },
   "source": [
    "# 4. Split Dataset into Training and Testing Set"
   ]
  },
  {
   "cell_type": "code",
   "execution_count": 21,
   "id": "1d12afba",
   "metadata": {
    "execution": {
     "iopub.execute_input": "2022-06-26T12:21:45.242800Z",
     "iopub.status.busy": "2022-06-26T12:21:45.242030Z",
     "iopub.status.idle": "2022-06-26T12:21:45.459887Z",
     "shell.execute_reply": "2022-06-26T12:21:45.458677Z"
    },
    "papermill": {
     "duration": 0.236343,
     "end_time": "2022-06-26T12:21:45.462799",
     "exception": false,
     "start_time": "2022-06-26T12:21:45.226456",
     "status": "completed"
    },
    "tags": []
   },
   "outputs": [],
   "source": [
    "X= pd.get_dummies(df.drop(['Transported'],axis=1),drop_first=True)\n",
    "y= df['Transported']\n",
    "df_test=pd.get_dummies(df_test,drop_first=True)\n",
    "\n",
    "\n",
    "from sklearn.model_selection import train_test_split\n",
    "from sklearn import preprocessing\n",
    "\n",
    "\n",
    "X_train, X_test, y_train, y_test = train_test_split(X, y, test_size=0.4, random_state=42)"
   ]
  },
  {
   "cell_type": "code",
   "execution_count": 22,
   "id": "ad6e12af",
   "metadata": {
    "execution": {
     "iopub.execute_input": "2022-06-26T12:21:45.491753Z",
     "iopub.status.busy": "2022-06-26T12:21:45.491350Z",
     "iopub.status.idle": "2022-06-26T12:21:45.571500Z",
     "shell.execute_reply": "2022-06-26T12:21:45.570265Z"
    },
    "papermill": {
     "duration": 0.097916,
     "end_time": "2022-06-26T12:21:45.574398",
     "exception": false,
     "start_time": "2022-06-26T12:21:45.476482",
     "status": "completed"
    },
    "tags": []
   },
   "outputs": [],
   "source": [
    "from sklearn.preprocessing import StandardScaler\n",
    "\n",
    "scaler = StandardScaler()\n",
    "X_train = pd.DataFrame(scaler.fit_transform(X_train), columns = X.columns)\n",
    "\n",
    "X_test = pd.DataFrame(scaler.transform(X_test), columns = X.columns)\n",
    "df_test = pd.DataFrame(scaler.transform(df_test), columns = df_test.columns)"
   ]
  },
  {
   "cell_type": "code",
   "execution_count": null,
   "id": "54286c4b",
   "metadata": {
    "papermill": {
     "duration": 0.013001,
     "end_time": "2022-06-26T12:21:45.600905",
     "exception": false,
     "start_time": "2022-06-26T12:21:45.587904",
     "status": "completed"
    },
    "tags": []
   },
   "outputs": [],
   "source": []
  },
  {
   "cell_type": "markdown",
   "id": "9c940568",
   "metadata": {
    "papermill": {
     "duration": 0.013529,
     "end_time": "2022-06-26T12:21:45.628042",
     "exception": false,
     "start_time": "2022-06-26T12:21:45.614513",
     "status": "completed"
    },
    "tags": []
   },
   "source": [
    "# 5. Machine Learning Model Pipeline"
   ]
  },
  {
   "cell_type": "code",
   "execution_count": 23,
   "id": "42c818d5",
   "metadata": {
    "execution": {
     "iopub.execute_input": "2022-06-26T12:21:45.657610Z",
     "iopub.status.busy": "2022-06-26T12:21:45.657231Z",
     "iopub.status.idle": "2022-06-26T12:21:45.994933Z",
     "shell.execute_reply": "2022-06-26T12:21:45.993683Z"
    },
    "papermill": {
     "duration": 0.356485,
     "end_time": "2022-06-26T12:21:45.998800",
     "exception": false,
     "start_time": "2022-06-26T12:21:45.642315",
     "status": "completed"
    },
    "tags": []
   },
   "outputs": [],
   "source": [
    "from warnings import filterwarnings\n",
    "filterwarnings(action='ignore', category=DeprecationWarning)\n",
    "# machine learning model_pipeline\n",
    "from sklearn.linear_model import LogisticRegression\n",
    "from sklearn.neighbors import KNeighborsClassifier\n",
    "from sklearn.tree import DecisionTreeClassifier\n",
    "from sklearn.ensemble import RandomForestClassifier\n",
    "from sklearn.ensemble import AdaBoostClassifier\n",
    "from sklearn.ensemble import GradientBoostingClassifier\n",
    "from xgboost import XGBClassifier\n",
    "\n",
    "\n",
    "model_pipeline=[]\n",
    "model_pipeline.append(LogisticRegression(solver='liblinear'))\n",
    "model_pipeline.append(KNeighborsClassifier())\n",
    "model_pipeline.append(DecisionTreeClassifier())\n",
    "model_pipeline.append(RandomForestClassifier())\n",
    "model_pipeline.append(GradientBoostingClassifier())\n",
    "model_pipeline.append(AdaBoostClassifier())\n",
    "model_pipeline.append(XGBClassifier(objective='binary:logistic',\n",
    "                          booster='gbtree',\n",
    "                          eval_metric='auc',\n",
    "                          tree_method='hist',\n",
    "                          grow_policy='lossguide',learning_rate=0.05, max_depth=5, n_estimators=180))"
   ]
  },
  {
   "cell_type": "code",
   "execution_count": 24,
   "id": "76ffd1c8",
   "metadata": {
    "execution": {
     "iopub.execute_input": "2022-06-26T12:21:46.028251Z",
     "iopub.status.busy": "2022-06-26T12:21:46.027856Z",
     "iopub.status.idle": "2022-06-26T12:21:49.085783Z",
     "shell.execute_reply": "2022-06-26T12:21:49.084980Z"
    },
    "papermill": {
     "duration": 3.075599,
     "end_time": "2022-06-26T12:21:49.088574",
     "exception": false,
     "start_time": "2022-06-26T12:21:46.012975",
     "status": "completed"
    },
    "tags": []
   },
   "outputs": [
    {
     "data": {
      "text/html": [
       "<div>\n",
       "<style scoped>\n",
       "    .dataframe tbody tr th:only-of-type {\n",
       "        vertical-align: middle;\n",
       "    }\n",
       "\n",
       "    .dataframe tbody tr th {\n",
       "        vertical-align: top;\n",
       "    }\n",
       "\n",
       "    .dataframe thead th {\n",
       "        text-align: right;\n",
       "    }\n",
       "</style>\n",
       "<table border=\"1\" class=\"dataframe\">\n",
       "  <thead>\n",
       "    <tr style=\"text-align: right;\">\n",
       "      <th></th>\n",
       "      <th>Model</th>\n",
       "      <th>Accuracy</th>\n",
       "      <th>AUC</th>\n",
       "    </tr>\n",
       "  </thead>\n",
       "  <tbody>\n",
       "    <tr>\n",
       "      <th>6</th>\n",
       "      <td>XGB</td>\n",
       "      <td>0.789534</td>\n",
       "      <td>0.79</td>\n",
       "    </tr>\n",
       "    <tr>\n",
       "      <th>4</th>\n",
       "      <td>GradientBoost</td>\n",
       "      <td>0.788384</td>\n",
       "      <td>0.79</td>\n",
       "    </tr>\n",
       "    <tr>\n",
       "      <th>5</th>\n",
       "      <td>AdaBoost</td>\n",
       "      <td>0.786371</td>\n",
       "      <td>0.79</td>\n",
       "    </tr>\n",
       "    <tr>\n",
       "      <th>0</th>\n",
       "      <td>Logistic Regression</td>\n",
       "      <td>0.784934</td>\n",
       "      <td>0.78</td>\n",
       "    </tr>\n",
       "    <tr>\n",
       "      <th>3</th>\n",
       "      <td>Random Forest</td>\n",
       "      <td>0.784646</td>\n",
       "      <td>0.78</td>\n",
       "    </tr>\n",
       "    <tr>\n",
       "      <th>1</th>\n",
       "      <td>KNN</td>\n",
       "      <td>0.767395</td>\n",
       "      <td>0.77</td>\n",
       "    </tr>\n",
       "    <tr>\n",
       "      <th>2</th>\n",
       "      <td>Decision Tree</td>\n",
       "      <td>0.730017</td>\n",
       "      <td>0.73</td>\n",
       "    </tr>\n",
       "  </tbody>\n",
       "</table>\n",
       "</div>"
      ],
      "text/plain": [
       "                 Model  Accuracy   AUC\n",
       "6                  XGB  0.789534  0.79\n",
       "4        GradientBoost  0.788384  0.79\n",
       "5             AdaBoost  0.786371  0.79\n",
       "0  Logistic Regression  0.784934  0.78\n",
       "3        Random Forest  0.784646  0.78\n",
       "1                  KNN  0.767395  0.77\n",
       "2        Decision Tree  0.730017  0.73"
      ]
     },
     "execution_count": 24,
     "metadata": {},
     "output_type": "execute_result"
    }
   ],
   "source": [
    "from sklearn import metrics\n",
    "from sklearn.metrics import classification_report\n",
    "from sklearn.metrics import confusion_matrix\n",
    "\n",
    "#model_list=['Logistic Regression','SVM','KNN','Decision Tree','Random Forest','Naive Bayes','AdaBoost']\n",
    "model_list=['Logistic Regression','KNN','Decision Tree','Random Forest','GradientBoost','AdaBoost','XGB']\n",
    "acc_list=[]\n",
    "auc_list=[]\n",
    "cm_list=[]\n",
    "\n",
    "for model in model_pipeline:\n",
    "    model.fit(X_train,y_train)\n",
    "    y_pred=model.predict(X_test)\n",
    "    acc_list.append(metrics.accuracy_score(y_test,y_pred))\n",
    "    fpr,tpr,_thresholds=metrics.roc_curve(y_test,y_pred)\n",
    "    auc_list.append(round(metrics.auc(fpr,tpr),2))\n",
    "    cm_list.append(confusion_matrix(y_test,y_pred))\n",
    "    \n",
    "result_df=pd.DataFrame({'Model':model_list,'Accuracy':acc_list,'AUC':auc_list})\n",
    "result_df.sort_values('Accuracy',ascending=False)"
   ]
  },
  {
   "cell_type": "markdown",
   "id": "84d88873",
   "metadata": {
    "execution": {
     "iopub.execute_input": "2022-06-26T12:12:57.684731Z",
     "iopub.status.busy": "2022-06-26T12:12:57.684195Z",
     "iopub.status.idle": "2022-06-26T12:16:35.983646Z",
     "shell.execute_reply": "2022-06-26T12:16:35.982330Z",
     "shell.execute_reply.started": "2022-06-26T12:12:57.684696Z"
    },
    "papermill": {
     "duration": 0.013534,
     "end_time": "2022-06-26T12:21:49.115883",
     "exception": false,
     "start_time": "2022-06-26T12:21:49.102349",
     "status": "completed"
    },
    "tags": []
   },
   "source": [
    "%%time\n",
    "\n",
    "from sklearn.model_selection import GridSearchCV\n",
    "from sklearn.metrics import mean_squared_error\n",
    "\n",
    "my_model=model_pipeline[6]\n",
    "params = {\n",
    " 'max_depth': range (2, 10, 1),\n",
    " 'n_estimators': range(60, 220, 40),\n",
    " 'learning_rate': [0.01, 0.10, 0.05]\n",
    "}\n",
    "\n",
    "grid_search = GridSearchCV(estimator=my_model,\n",
    "                           param_grid=params,                          \n",
    "                           n_jobs=10,\n",
    "                           cv=10,\n",
    "                           verbose=True)\n",
    "grid_search.fit(X_train,y_train)\n",
    "\n",
    "predictions_1 = grid_search.predict(X_test)\n",
    "\n",
    "score_1 = grid_search.score(X_test, y_test)\n",
    "mae_1 = mean_squared_error(y_test, predictions_1)\n",
    "rmse_1 = np.sqrt(mae_1)\n",
    "\n",
    "print('Model Accuracy : ', score_1)\n",
    "print('Mean Squared Error : ', mae_1)\n",
    "print('RMSE : ', rmse_1)"
   ]
  },
  {
   "cell_type": "markdown",
   "id": "ad97f47a",
   "metadata": {
    "execution": {
     "iopub.execute_input": "2022-06-26T12:17:27.510016Z",
     "iopub.status.busy": "2022-06-26T12:17:27.509122Z",
     "iopub.status.idle": "2022-06-26T12:17:27.517428Z",
     "shell.execute_reply": "2022-06-26T12:17:27.515986Z",
     "shell.execute_reply.started": "2022-06-26T12:17:27.509957Z"
    },
    "papermill": {
     "duration": 0.013547,
     "end_time": "2022-06-26T12:21:49.143257",
     "exception": false,
     "start_time": "2022-06-26T12:21:49.129710",
     "status": "completed"
    },
    "tags": []
   },
   "source": [
    "print(grid_search.best_params_)"
   ]
  },
  {
   "cell_type": "code",
   "execution_count": null,
   "id": "72403c30",
   "metadata": {
    "papermill": {
     "duration": 0.013445,
     "end_time": "2022-06-26T12:21:49.170631",
     "exception": false,
     "start_time": "2022-06-26T12:21:49.157186",
     "status": "completed"
    },
    "tags": []
   },
   "outputs": [],
   "source": []
  },
  {
   "cell_type": "code",
   "execution_count": 25,
   "id": "d9471e29",
   "metadata": {
    "execution": {
     "iopub.execute_input": "2022-06-26T12:21:49.200529Z",
     "iopub.status.busy": "2022-06-26T12:21:49.199775Z",
     "iopub.status.idle": "2022-06-26T12:21:49.238079Z",
     "shell.execute_reply": "2022-06-26T12:21:49.236814Z"
    },
    "papermill": {
     "duration": 0.056194,
     "end_time": "2022-06-26T12:21:49.240713",
     "exception": false,
     "start_time": "2022-06-26T12:21:49.184519",
     "status": "completed"
    },
    "tags": []
   },
   "outputs": [
    {
     "data": {
      "text/plain": [
       "True     2199\n",
       "False    2078\n",
       "Name: Transported, dtype: int64"
      ]
     },
     "execution_count": 25,
     "metadata": {},
     "output_type": "execute_result"
    }
   ],
   "source": [
    "#pred=pd.Series(model_pipeline[0].predict(df_test))\n",
    "pred=pd.Series(model_pipeline[6].predict(df_test)).map({0:False, 1:True})\n",
    "#pred=pd.Series(grid_search.predict(df_test)).map({0:False, 1:True})\n",
    "submission = pd.DataFrame({'PassengerId': Id_test_list,\n",
    "                       'Transported': pred})\n",
    "\n",
    "submission.to_csv(\"submission.csv\", index=False)\n",
    "submission.Transported.value_counts()"
   ]
  },
  {
   "cell_type": "code",
   "execution_count": null,
   "id": "27641b83",
   "metadata": {
    "papermill": {
     "duration": 0.013763,
     "end_time": "2022-06-26T12:21:49.268978",
     "exception": false,
     "start_time": "2022-06-26T12:21:49.255215",
     "status": "completed"
    },
    "tags": []
   },
   "outputs": [],
   "source": []
  }
 ],
 "metadata": {
  "kernelspec": {
   "display_name": "Python 3",
   "language": "python",
   "name": "python3"
  },
  "language_info": {
   "codemirror_mode": {
    "name": "ipython",
    "version": 3
   },
   "file_extension": ".py",
   "mimetype": "text/x-python",
   "name": "python",
   "nbconvert_exporter": "python",
   "pygments_lexer": "ipython3",
   "version": "3.7.12"
  },
  "papermill": {
   "default_parameters": {},
   "duration": 20.136146,
   "end_time": "2022-06-26T12:21:50.105244",
   "environment_variables": {},
   "exception": null,
   "input_path": "__notebook__.ipynb",
   "output_path": "__notebook__.ipynb",
   "parameters": {},
   "start_time": "2022-06-26T12:21:29.969098",
   "version": "2.3.4"
  }
 },
 "nbformat": 4,
 "nbformat_minor": 5
}
